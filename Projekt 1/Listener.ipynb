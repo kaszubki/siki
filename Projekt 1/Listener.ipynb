{
 "cells": [
  {
   "cell_type": "markdown",
   "metadata": {},
   "source": [
    "Opis:\n",
    "\n",
    "słuchamy aż usłyszymy że ktoś do nas nadaje (rozróżniam 3 stany - ciszę, częstotliwość A i częstotliwość B)\n",
    "\n",
    "wtedy wczytuję całą ramkę i odczytuję wiadomość w niej zawartą\n",
    "\n",
    "ramka ma też bit który mówi, czy to jest ostatnia ramka wiadomości, czy nie\n",
    "\n",
    "jeśli to nie jest ostatnia ramka, to słuchamy dalej"
   ]
  },
  {
   "cell_type": "code",
   "execution_count": 3,
   "metadata": {
    "collapsed": false
   },
   "outputs": [
    {
     "name": "stdout",
     "output_type": "stream",
     "text": [
      "Importing ipynb file : Encoder.ipynb\n"
     ]
    }
   ],
   "source": [
    "import wave\n",
    "import pulseaudio as pa\n",
    "import numpy as np\n",
    "import uuid\n",
    "from Encoder import Encoder\n",
    "\n",
    "class Listener(object):\n",
    "\n",
    "    @staticmethod\n",
    "    def find_frequency(framerate, samples):\n",
    "        \"\"\"\n",
    "            znajduje częstotliwość (przepraszam za redundancję w kodzie)\n",
    "        \"\"\"\n",
    "        with pa.simple.open(direction=pa.STREAM_RECORD, \n",
    "                            format=pa.SAMPLE_S16LE, \n",
    "                            rate=framerate, \n",
    "                            channels=1) as recorder:\n",
    "            wave = np.fromstring(recorder.read(2 * samples), np.int16)\n",
    "            w = np.fft.fft(wave)\n",
    "            freqs = np.fft.fftfreq(len(w))\n",
    "            res = abs(freqs[np.argmax(np.abs(w))] * framerate)\n",
    "            return res\n",
    "    \n",
    "    @staticmethod\n",
    "    def get_frequency(wave, framerate=44100):\n",
    "        \"\"\"\n",
    "            bierze falkę i zwraca częstotliwość\n",
    "        \"\"\"\n",
    "        w = np.fft.fft(wave)\n",
    "        freqs = np.fft.fftfreq(len(w))\n",
    "        return abs(freqs[np.argmax(np.abs(w))] * framerate)\n",
    "    \n",
    "    @staticmethod\n",
    "    def frequency_to_bit(freq, freqs):\n",
    "        \"\"\"\n",
    "            krótka heura na stwierdzenie czy \n",
    "            częstotliwość jest jedną z tych \n",
    "            na których nasłuchujemy\n",
    "        \"\"\"\n",
    "        if freq < freqs[0] * 0.75:\n",
    "            return -1\n",
    "        if freq < sum(freqs) / 2:\n",
    "            return 0\n",
    "        return 1\n",
    "    \n",
    "    def __init__(self, framerate=44100, frequencies=[1764,4410], bit_length=100):\n",
    "        \"\"\"\n",
    "            konstruktor\n",
    "        \"\"\"\n",
    "        self.framerate = framerate\n",
    "        self.frequencies = frequencies\n",
    "        self.bit_length = bit_length\n",
    "        self.mac = ':'.join((\"%012X\" % uuid.getnode())[i:i+2] for i in range(0, 12, 2))\n",
    "\n",
    "    def get_waves(self, samples, nbits):\n",
    "        \"\"\"\n",
    "            słucha samples i zwraca listę falek (każda falka reprezentuje jeden z nbits bitów)\n",
    "        \"\"\"\n",
    "        with pa.simple.open(direction=pa.STREAM_RECORD, \n",
    "                            format=pa.SAMPLE_S16LE, \n",
    "                            rate=self.framerate, \n",
    "                            channels=1) as recorder:\n",
    "            wave = np.fromstring(recorder.read(2 * samples * nbits), np.int16)\n",
    "            waves = [wave[(samples * a):(samples * (a + 1))] for a in xrange(nbits)]\n",
    "            return waves\n",
    "    \n",
    "    def solve(self, package_size=100):\n",
    "        \"\"\"\n",
    "            robi to, czego oczekujemy, czyli rozwiązuje problemy\n",
    "            przyjmuje liczbę bitów wiadomości (bez opakowania) w pojedynczej paczce\n",
    "            i słucha\n",
    "            i słucha\n",
    "            i słucha\n",
    "            i zwraca to co wysłyszał\n",
    "        \"\"\"\n",
    "        #powiększamy package_size o rozmiar zbędnego prefiksu i sufiksu\n",
    "        package_size = (package_size * 5) / 4\n",
    "        package_size += 660\n",
    "        \n",
    "        results = []\n",
    "        \n",
    "        while True:\n",
    "            res = []\n",
    "            ret = []\n",
    "            while True:\n",
    "                start_bit = Listener.find_frequency(self.framerate, self.bit_length)\n",
    "                if Listener.frequency_to_bit(start_bit, self.frequencies) == 1:\n",
    "                    ret.append(self.frequency_to_bit(start_bit, self.frequencies))\n",
    "                    last_frequency = start_bit\n",
    "                    while Listener.frequency_to_bit(last_frequency, self.frequencies) >= 0:\n",
    "                        ple = self.get_waves(self.bit_length, package_size)\n",
    "                        res.append(ple)\n",
    "                        last_frequency = Listener.get_frequency(ple[-1])\n",
    "                    break\n",
    "\n",
    "            for i in xrange(len(res)):\n",
    "                for j in xrange(len(res[i])):\n",
    "                    wave = res[i][j]\n",
    "                    if j == 0:\n",
    "                        wave = wave[:(len(wave)/2)]\n",
    "                    r = Listener.get_frequency(wave)\n",
    "                    a = Listener.frequency_to_bit(r, self.frequencies)\n",
    "                    ret.append(a)\n",
    "\n",
    "            ret = Encoder.restore_message(ret)\n",
    "            ret, bit = Encoder.get_data_from_message(ret)\n",
    "            results.append(ret)\n",
    "            if bit == \"1\":\n",
    "                return ''.join(results)"
   ]
  },
  {
   "cell_type": "code",
   "execution_count": 7,
   "metadata": {
    "collapsed": false
   },
   "outputs": [
    {
     "name": "stdout",
     "output_type": "stream",
     "text": [
      "0101011101101001011101000110000101101010011000110110100101100101001000010010000001001110011000010111101001111001011101110110000101101101001000000111001101101001011001010010000001001010011000010110001101100101011010110010000001001100011000010111001101111010011000110111101001101111011010110010000001010011011101000110000101100011011010000111010101110010011100110110101101111001001000000101010101110010011011110110010001111010011010010110110001100101011011010010000001110011011010010110010100100000011001000111011101110101011001000111101001101001011001010111001101110100011001010110011101101111001000000111001101111010011011110111001101110100011001010110011101101111001000000111001101110100011110010110001101111010011011100110100101100001001000000111010001111001011100110110100101100001011000110010000001100100011110100110100101100101011101110110100101100101011000110111001101100101011101000010000001110011011110100110010101110011011000110110010001111010011010010110010101110011011010010110000101110100011001010110011101101111001000000111001101111010011011110111001101110100011001010110011101101111001000000111001001101111011010110111010100100000010010100110010101110011011101000110010101101101001000000101101001101111011011000111010001100001001000000100110101100001011001110110111001100101011101000111100101100011011110100110111001100001001000000100011101110111011010010110000101111010011001000110000100101100001000000110101101110100011011110111001001100001001000000110111101110100011000010110001101111010011000010010000001100011011001010110111001110100011100100110000101101100011011100111100100101100001000000111101001101001011001010110110001101111011011100111100100100000010110100110000101101101011001010110101100100000010100110111100101101110011000110110100001110010011011110110111001101001011110100110000101100011011010100110100100100000010100000111001001111010011001010111011101101111011001000110111001101001011010110110100101100101011011010010000001101101011010010010000001011010011011110110110001110100011110010010000001010011011000010110110101101111011010010111001101110100011011100111100100100000010000110111101001101100011011110111011101101001011001010110101100100000010010100110010101110011011101000110010101101101001000000110111101110100011101110110000101110010011101000111100100100000011001000110110001100001001000000111011101111001011110100111001101111010011110010110001101101000001000000111011101111001011011010110100101100001011100100110111101110111001000000100100100100000011100000111001001111010011001010110101101110010011000010110001101111010011000010110110100100000011001110111001001100001011011100110100101100011011001010010000001110111011110010110111101100010011100100110000101111010011011100110100100100001001000000101010001110111011011110111001001111010011001010010000001110000011010010110010101101011011011100110111100100000011010010010000001101000011000010111001001101101011011110110111001101001011001010010000001100111011001000111101001101001011001010110101101101111011011000111011101101001011001010110101100100000011100110110100101100101001000000111000001101111011010100110000101110111011010010110010100100000010100000110111100100000011011010110111101101010011001010110101000100000011100000111001001100001011101110110100101100011011110010010000001111010011000010111001101101001011000010110010001100001001000000110001101111010011001010111001001110111011011110110111001111001001011000010000001000111011000010110110001100001011010110111010001111001011000110111101001101110011110010010000001010111011001010110010001110010011011110111011101101001011001010110001100100000010100000110111100100000011011010110111101101010011001010110101000100000011011000110010101110111011010010110001101111001001000000010110100100000011011100110100101100101011000100110100101100101011100110110101101100001001011000010000001110111011010010110111101100100011000010110001101100001001000000100110101101111011000110010000001010000011100100111101001100101011110100010000001111010011110010110001101101001011001010010000001110000011100100110111101110111011000010110010001111010011010010010000001101101011011100110100101100101001000000110001001101001011000010110110001100101001011000010000001010010011110010111010001101101011010010110001101111010011011100110010100100000010110100111011101101001011001010111001001100011011010010110000101100100011011000110111100101110001011100010111000100000010101110110100101110100011000010110110100100000010101110110000101110011001000000111011100100000011011010110111101101001011011010010000001110011011101110110100101100101011000110110100101100101001000010010000001000010011000010111011101100011011010010110010100100000011100110110100101100101001000000110100100100000011000110110100101100101011100110111101001100011011010010110010100100000011100100110000101111010011001010110110100100000011110100110010100100000011011010110111001100001001011100010111000101110001000000100101001100001011011010010000001101010011001010111001101110100001000000110001101111010011101000110010101110010011110010111001101110100011000010010000001100011011110100111010001100101011100100110010001111010011010010110010101110011011000110110100100101110001011100010111000100000011010010010000001100011011110100111010001100101011100100111100100101110\n",
      "5248\n",
      "Witajcie! Nazywam sie Jacek Laszczok Stachursky Urodzilem sie dwudziestego szostego stycznia tysiac dziewiecset szescdziesiatego szostego roku Jestem Zolta Magnetyczna Gwiazda, ktora otacza centralny, zielony Zamek Synchronizacji Przewodnikiem mi Zolty Samoistny Czlowiek Jestem otwarty dla wyzszych wymiarow I przekraczam granice wyobrazni! Tworze piekno i harmonie gdziekolwiek sie pojawie Po mojej prawicy zasiada czerwony, Galaktyczny Wedrowiec Po mojej lewicy - niebieska, wiodaca Moc Przez zycie prowadzi mnie biale, Rytmiczne Zwierciadlo... Witam Was w moim swiecie! Bawcie sie i cieszcie razem ze mna... Jam jest czterysta czterdziesci... i cztery.\n"
     ]
    }
   ],
   "source": [
    "l = Listener(bit_length=50)\n",
    "s = l.solve(package_size=1999)\n",
    "print s\n",
    "print len(s)\n",
    "print Encoder.string_from_bits(s)"
   ]
  },
  {
   "cell_type": "markdown",
   "metadata": {},
   "source": [
    "Problem: ten pulseaudio dostaje retarda pod koniec sygnału.\n",
    "\n",
    "Rozwiazanie: wczytujemy tyle bitow ile sie da (tj. dlugosc ramki którą slemy)\n",
    "\n",
    "Nieudane próby rozwiazania:\n",
    "\n",
    "1) Wysyłanie wiadomosci bit po bicie - \n",
    "\n",
    "zupelnie nie dziala\n",
    "\n",
    "2) Wysyłanie wiadomosci w paczkach czasowch - \n",
    "\n",
    "czas jest slaby, bo rozne rzeczy zuzywaja czas i mamy rozstrojenie\n",
    "\n",
    "3) Wysyłanie wiadomosci w paczkach mniejszych niz maksymalna dlugosc -\n",
    "\n",
    "trzeba by dzielic wiadomosc na kawalki i do kazdego doklejac stratny sufiks, a to w zasadzie sie nie rozni od wysylania calej ramki i sluchania calej ramki, a jest mniej roboty"
   ]
  }
 ],
 "metadata": {
  "kernelspec": {
   "display_name": "Python 2",
   "language": "python",
   "name": "python2"
  },
  "language_info": {
   "codemirror_mode": {
    "name": "ipython",
    "version": 2
   },
   "file_extension": ".py",
   "mimetype": "text/x-python",
   "name": "python",
   "nbconvert_exporter": "python",
   "pygments_lexer": "ipython2",
   "version": "2.7.6"
  }
 },
 "nbformat": 4,
 "nbformat_minor": 0
}
