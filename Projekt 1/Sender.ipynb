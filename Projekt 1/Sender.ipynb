{
 "cells": [
  {
   "cell_type": "markdown",
   "metadata": {},
   "source": [
    "Opis:\n",
    "\n",
    "funkcją rozwiązującą zadanie jest send_binary_message\n",
    "\n",
    "przyjmuje ona stringa którego chcemy nadać oraz rozmiar paczki, czyli kawałków na które go dzielimy\n",
    "\n",
    "i dla każdego z tych kawałków pakuję w ramkę i ślę"
   ]
  },
  {
   "cell_type": "code",
   "execution_count": 3,
   "metadata": {
    "collapsed": false
   },
   "outputs": [
    {
     "name": "stdout",
     "output_type": "stream",
     "text": [
      "Importing ipynb file : Encoder.ipynb\n"
     ]
    }
   ],
   "source": [
    "import numpy as np\n",
    "import pulseaudio as pa\n",
    "import matplotlib.pyplot as plt\n",
    "import time as ti\n",
    "import binascii\n",
    "import uuid\n",
    "import zlib\n",
    "import sys\n",
    "import termios\n",
    "import tty\n",
    "import time\n",
    "from bitarray import bitarray\n",
    "from Encoder import Encoder\n",
    "%matplotlib inline\n",
    "\n",
    "class Sender(object):\n",
    "    def __init__(self, frequencies=[1764, 4410], amplitude=2000, bit_length=100):\n",
    "        self.amplitude = amplitude\n",
    "        self.frequencies = frequencies\n",
    "        self.framerate = 44100\n",
    "        self.points = [self.framerate / self.frequencies[x] for x in [0, 1]]\n",
    "        self.values = [np.linspace(start=0, stop=2*np.pi, num=self.points[x], endpoint=False) for x in [0, 1]]\n",
    "        self.values = [list(self.values[x]) * (bit_length/self.points[x]) for x in [0, 1]]\n",
    "        self.values = [np.round(self.amplitude * np.sin(self.values[x])) for x in [0, 1]]\n",
    "        self.tones = [(self.values[x]).astype(np.int16).tostring() for x in [0, 1]]\n",
    "        self.mac = ':'.join((\"%012X\" % uuid.getnode())[i:(i+2)] for i in range(0, 12, 2))\n",
    "    \n",
    "    def generate_tone_time(self, bit, time_l):\n",
    "        tune = self.tones[bit]\n",
    "        current_time = time.time()\n",
    "        end_time = current_time + time_l\n",
    "        with pa.simple.open(direction=pa.STREAM_PLAYBACK, \n",
    "                            format=pa.SAMPLE_S16LE, \n",
    "                            rate=self.framerate, \n",
    "                            channels=1) as player:\n",
    "            while(time.time() < end_time):\n",
    "                player.write(tune)        \n",
    "        return\n",
    "    \n",
    "    def send_binary_string(self, s):\n",
    "        \"\"\"\n",
    "            wysyła string s (bez opakowywania)\n",
    "        \"\"\"\n",
    "        message = ''.join([self.tones[0 if b==\"0\" else 1] for b in s])\n",
    "        with pa.simple.open(direction=pa.STREAM_PLAYBACK, \n",
    "                            format=pa.SAMPLE_S16LE, \n",
    "                            rate=self.framerate, \n",
    "                            channels=1) as player:\n",
    "            player.write(message)\n",
    "        return\n",
    "    \n",
    "    def send_binary_message(self, s, package_size=1499):\n",
    "        \"\"\"\n",
    "            dzieli stringa s na paczki, opakowuje je w ramki i wysyła\n",
    "            package_size musi dawać resztę 3 z dzielenia przez 4\n",
    "        \"\"\"\n",
    "        frames = Encoder.get_frames(self.mac, self.mac, s, package_size)\n",
    "        for ramka in frames:\n",
    "            self.send_binary_string(ramka)\n",
    "            time.sleep(0.3) #to musi być, bo są opóźnienia związanie z obróbką wiadomości"
   ]
  },
  {
   "cell_type": "code",
   "execution_count": 11,
   "metadata": {
    "collapsed": false,
    "scrolled": true
   },
   "outputs": [
    {
     "name": "stdout",
     "output_type": "stream",
     "text": [
      "11.3374378681\n"
     ]
    }
   ],
   "source": [
    "s = Sender(bit_length=50)\n",
    "\n",
    "stach = (\"Witajcie! \"\n",
    "\"Nazywam sie Jacek Laszczok Stachursky \"\n",
    "\"Urodzilem sie dwudziestego szostego stycznia tysiac dziewiecset szescdziesiatego szostego roku \"\n",
    "\"Jestem Zolta Magnetyczna Gwiazda, ktora otacza centralny, zielony Zamek Synchronizacji \"\n",
    "\"Przewodnikiem mi Zolty Samoistny Czlowiek \"\n",
    "\"Jestem otwarty dla wyzszych wymiarow \"\n",
    "\"I przekraczam granice wyobrazni! \"\n",
    "\"Tworze piekno i harmonie gdziekolwiek sie pojawie \"\n",
    "\"Po mojej prawicy zasiada czerwony, Galaktyczny Wedrowiec \"\n",
    "\"Po mojej lewicy - niebieska, wiodaca Moc \"\n",
    "\"Przez zycie prowadzi mnie biale, Rytmiczne Zwierciadlo... \"\n",
    "\"Witam Was w moim swiecie! \"\n",
    "\"Bawcie sie i cieszcie razem ze mna... \"\n",
    "\"Jam jest czterysta czterdziesci... i cztery.\")\n",
    "\n",
    "st = time.time()\n",
    "s.send_binary_message(Encoder.string_to_bits(stach), package_size=1999)\n",
    "et = time.time()\n",
    "print et-st"
   ]
  }
 ],
 "metadata": {
  "kernelspec": {
   "display_name": "Python 2",
   "language": "python",
   "name": "python2"
  },
  "language_info": {
   "codemirror_mode": {
    "name": "ipython",
    "version": 2
   },
   "file_extension": ".py",
   "mimetype": "text/x-python",
   "name": "python",
   "nbconvert_exporter": "python",
   "pygments_lexer": "ipython2",
   "version": "2.7.6"
  }
 },
 "nbformat": 4,
 "nbformat_minor": 0
}
